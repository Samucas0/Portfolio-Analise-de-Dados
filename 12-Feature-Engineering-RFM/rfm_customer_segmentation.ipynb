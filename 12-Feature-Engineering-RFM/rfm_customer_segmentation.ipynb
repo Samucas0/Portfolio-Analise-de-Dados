{
 "cells": [
  {
   "cell_type": "markdown",
   "id": "f54fc7bc",
   "metadata": {},
   "source": [
    "# Project Day 12: RFM Analysis - Feature Engineering\n",
    "\n",
    "**Objective:** Create an RFM (Recency, Frequency, Monetary) customer segmentation model.\n",
    "\n",
    "The challenge is to transform a transaction log (where each row is an *item*) into a customer \n",
    "table (where each row is a *customer*), by creating the 3 main features:\n",
    "1.  **Recency (R):** How many days ago was their last purchase?\n",
    "2.  **Frequency (F):** How many (unique invoice) purchases have they made?\n",
    "3.  **Monetary (M):** How much have they spent in total?"
   ]
  },
  {
   "cell_type": "code",
   "execution_count": 39,
   "id": "475e26df",
   "metadata": {},
   "outputs": [],
   "source": [
    "import pandas as pd\n",
    "import numpy as np\n",
    "import datetime as dt # I'll use this to create the Timedelta"
   ]
  },
  {
   "cell_type": "markdown",
   "id": "6825c62a",
   "metadata": {},
   "source": [
    "## 1. Data Load and Cleaning\n",
    "\n",
    "I will load the dataset, take an initial look, and perform the necessary cleaning."
   ]
  },
  {
   "cell_type": "code",
   "execution_count": 40,
   "id": "e41bc470",
   "metadata": {},
   "outputs": [
    {
     "name": "stdout",
     "output_type": "stream",
     "text": [
      "Dataset loaded successfully!\n"
     ]
    }
   ],
   "source": [
    "# I had to use encoding='latin1' (or 'ISO-8859-1') because the default 'utf-8'\n",
    "# doesn't recognize some special characters in the file, like '£'.\n",
    "\n",
    "df = pd.read_csv('Online_Retail.csv', encoding='latin1')\n",
    "print(\"Dataset loaded successfully!\")"
   ]
  },
  {
   "cell_type": "code",
   "execution_count": 41,
   "id": "117b70ed",
   "metadata": {},
   "outputs": [
    {
     "name": "stdout",
     "output_type": "stream",
     "text": [
      "\n",
      "--- Initial DataFrame Info ---\n",
      "<class 'pandas.core.frame.DataFrame'>\n",
      "RangeIndex: 541909 entries, 0 to 541908\n",
      "Data columns (total 8 columns):\n",
      " #   Column       Non-Null Count   Dtype  \n",
      "---  ------       --------------   -----  \n",
      " 0   InvoiceNo    541909 non-null  object \n",
      " 1   StockCode    541909 non-null  object \n",
      " 2   Description  540455 non-null  object \n",
      " 3   Quantity     541909 non-null  int64  \n",
      " 4   InvoiceDate  541909 non-null  object \n",
      " 5   UnitPrice    541909 non-null  float64\n",
      " 6   CustomerID   406829 non-null  float64\n",
      " 7   Country      541909 non-null  object \n",
      "dtypes: float64(2), int64(1), object(5)\n",
      "memory usage: 33.1+ MB\n",
      "None\n",
      "\n",
      "--- First 5 Rows ---\n",
      "  InvoiceNo StockCode                          Description  Quantity  \\\n",
      "0    536365    85123A   WHITE HANGING HEART T-LIGHT HOLDER         6   \n",
      "1    536365     71053                  WHITE METAL LANTERN         6   \n",
      "2    536365    84406B       CREAM CUPID HEARTS COAT HANGER         8   \n",
      "3    536365    84029G  KNITTED UNION FLAG HOT WATER BOTTLE         6   \n",
      "4    536365    84029E       RED WOOLLY HOTTIE WHITE HEART.         6   \n",
      "\n",
      "    InvoiceDate  UnitPrice  CustomerID         Country  \n",
      "0  12/1/10 8:26       2.55     17850.0  United Kingdom  \n",
      "1  12/1/10 8:26       3.39     17850.0  United Kingdom  \n",
      "2  12/1/10 8:26       2.75     17850.0  United Kingdom  \n",
      "3  12/1/10 8:26       3.39     17850.0  United Kingdom  \n",
      "4  12/1/10 8:26       3.39     17850.0  United Kingdom  \n"
     ]
    }
   ],
   "source": [
    "# Taking a quick look at the structure\n",
    "print(\"\\n--- Initial DataFrame Info ---\")\n",
    "print(df.info())\n",
    "print(\"\\n--- First 5 Rows ---\")\n",
    "print(df.head())"
   ]
  },
  {
   "cell_type": "code",
   "execution_count": 42,
   "id": "aac207fb",
   "metadata": {},
   "outputs": [
    {
     "name": "stdout",
     "output_type": "stream",
     "text": [
      "\n",
      "Data cleaned. Rows before: 541909, Rows now: 397924\n"
     ]
    }
   ],
   "source": [
    "# --- Cleaning ---\n",
    "# I'll operate on a copy to keep the original safe\n",
    "df_cleaned = df.copy()\n",
    "\n",
    "# 1. Remove canceled transactions (Quantity < 0)\n",
    "df_cleaned = df_cleaned[df_cleaned['Quantity'] > 0]\n",
    "\n",
    "# 2. Remove anonymous customers (CustomerID is null)\n",
    "# I can't perform customer segmentation without a customer ID.\n",
    "df_cleaned = df_cleaned.dropna(subset=['CustomerID'])\n",
    "\n",
    "print(f\"\\nData cleaned. Rows before: {len(df)}, Rows now: {len(df_cleaned)}\")"
   ]
  },
  {
   "cell_type": "markdown",
   "id": "d4fb3fbd",
   "metadata": {},
   "source": [
    "## 2. Feature Engineering (Row-Level)\n",
    "\n",
    "Here, I'll create new features using information from the *same row*."
   ]
  },
  {
   "cell_type": "code",
   "execution_count": 46,
   "id": "7bd1d209",
   "metadata": {},
   "outputs": [
    {
     "name": "stdout",
     "output_type": "stream",
     "text": [
      "\n",
      "--- DataFrame after Row-Level Engineering ---\n"
     ]
    },
    {
     "data": {
      "text/html": [
       "<div>\n",
       "<style scoped>\n",
       "    .dataframe tbody tr th:only-of-type {\n",
       "        vertical-align: middle;\n",
       "    }\n",
       "\n",
       "    .dataframe tbody tr th {\n",
       "        vertical-align: top;\n",
       "    }\n",
       "\n",
       "    .dataframe thead th {\n",
       "        text-align: right;\n",
       "    }\n",
       "</style>\n",
       "<table border=\"1\" class=\"dataframe\">\n",
       "  <thead>\n",
       "    <tr style=\"text-align: right;\">\n",
       "      <th></th>\n",
       "      <th>InvoiceNo</th>\n",
       "      <th>StockCode</th>\n",
       "      <th>Description</th>\n",
       "      <th>Quantity</th>\n",
       "      <th>InvoiceDate</th>\n",
       "      <th>UnitPrice</th>\n",
       "      <th>CustomerID</th>\n",
       "      <th>Country</th>\n",
       "      <th>TotalValue</th>\n",
       "    </tr>\n",
       "  </thead>\n",
       "  <tbody>\n",
       "    <tr>\n",
       "      <th>0</th>\n",
       "      <td>536365</td>\n",
       "      <td>85123A</td>\n",
       "      <td>WHITE HANGING HEART T-LIGHT HOLDER</td>\n",
       "      <td>6</td>\n",
       "      <td>2010-01-12 08:26:00</td>\n",
       "      <td>2.55</td>\n",
       "      <td>17850.0</td>\n",
       "      <td>United Kingdom</td>\n",
       "      <td>15.30</td>\n",
       "    </tr>\n",
       "    <tr>\n",
       "      <th>1</th>\n",
       "      <td>536365</td>\n",
       "      <td>71053</td>\n",
       "      <td>WHITE METAL LANTERN</td>\n",
       "      <td>6</td>\n",
       "      <td>2010-01-12 08:26:00</td>\n",
       "      <td>3.39</td>\n",
       "      <td>17850.0</td>\n",
       "      <td>United Kingdom</td>\n",
       "      <td>20.34</td>\n",
       "    </tr>\n",
       "    <tr>\n",
       "      <th>2</th>\n",
       "      <td>536365</td>\n",
       "      <td>84406B</td>\n",
       "      <td>CREAM CUPID HEARTS COAT HANGER</td>\n",
       "      <td>8</td>\n",
       "      <td>2010-01-12 08:26:00</td>\n",
       "      <td>2.75</td>\n",
       "      <td>17850.0</td>\n",
       "      <td>United Kingdom</td>\n",
       "      <td>22.00</td>\n",
       "    </tr>\n",
       "    <tr>\n",
       "      <th>3</th>\n",
       "      <td>536365</td>\n",
       "      <td>84029G</td>\n",
       "      <td>KNITTED UNION FLAG HOT WATER BOTTLE</td>\n",
       "      <td>6</td>\n",
       "      <td>2010-01-12 08:26:00</td>\n",
       "      <td>3.39</td>\n",
       "      <td>17850.0</td>\n",
       "      <td>United Kingdom</td>\n",
       "      <td>20.34</td>\n",
       "    </tr>\n",
       "    <tr>\n",
       "      <th>4</th>\n",
       "      <td>536365</td>\n",
       "      <td>84029E</td>\n",
       "      <td>RED WOOLLY HOTTIE WHITE HEART.</td>\n",
       "      <td>6</td>\n",
       "      <td>2010-01-12 08:26:00</td>\n",
       "      <td>3.39</td>\n",
       "      <td>17850.0</td>\n",
       "      <td>United Kingdom</td>\n",
       "      <td>20.34</td>\n",
       "    </tr>\n",
       "  </tbody>\n",
       "</table>\n",
       "</div>"
      ],
      "text/plain": [
       "  InvoiceNo StockCode                          Description  Quantity  \\\n",
       "0    536365    85123A   WHITE HANGING HEART T-LIGHT HOLDER         6   \n",
       "1    536365     71053                  WHITE METAL LANTERN         6   \n",
       "2    536365    84406B       CREAM CUPID HEARTS COAT HANGER         8   \n",
       "3    536365    84029G  KNITTED UNION FLAG HOT WATER BOTTLE         6   \n",
       "4    536365    84029E       RED WOOLLY HOTTIE WHITE HEART.         6   \n",
       "\n",
       "          InvoiceDate  UnitPrice  CustomerID         Country  TotalValue  \n",
       "0 2010-01-12 08:26:00       2.55     17850.0  United Kingdom       15.30  \n",
       "1 2010-01-12 08:26:00       3.39     17850.0  United Kingdom       20.34  \n",
       "2 2010-01-12 08:26:00       2.75     17850.0  United Kingdom       22.00  \n",
       "3 2010-01-12 08:26:00       3.39     17850.0  United Kingdom       20.34  \n",
       "4 2010-01-12 08:26:00       3.39     17850.0  United Kingdom       20.34  "
      ]
     },
     "metadata": {},
     "output_type": "display_data"
    }
   ],
   "source": [
    "# 1. Create the 'TotalValue' column\n",
    "# This is the first feature I'm engineering.\n",
    "df_cleaned['TotalValue'] = df_cleaned['Quantity'] * df_cleaned['UnitPrice']\n",
    "\n",
    "# 2. Convert 'InvoiceDate' to datetime format\n",
    "# Pandas read it as text (object), I need to convert it to a date\n",
    "# to be able to perform time calculations (Recency).\n",
    "df_cleaned['InvoiceDate'] = pd.to_datetime(df_cleaned['InvoiceDate'], dayfirst=True)\n",
    "\n",
    "print(\"\\n--- DataFrame after Row-Level Engineering ---\")\n",
    "display(df_cleaned.head())"
   ]
  },
  {
   "cell_type": "markdown",
   "id": "2ef4a58c",
   "metadata": {},
   "source": [
    "## 3. Feature Engineering (Aggregation-Level - RFM)\n",
    "\n",
    "This is the main part. I will \"compress\" each customer's history into 3 metrics, using `.groupby()`.\n",
    "\"\"\""
   ]
  },
  {
   "cell_type": "code",
   "execution_count": 44,
   "id": "a51bf585",
   "metadata": {},
   "outputs": [
    {
     "name": "stdout",
     "output_type": "stream",
     "text": [
      "\n",
      "Snapshot Date ('Today'): 2011-12-11\n"
     ]
    }
   ],
   "source": [
    "# Defining our dataset's \"today\".\n",
    "# I'll calculate the date of the last purchase in the dataset and add 1 day.\n",
    "# This ensures that no one's recency will be zero.\n",
    "snapshot_date = df_cleaned['InvoiceDate'].max() + pd.Timedelta(days=1)\n",
    "\n",
    "print(f\"\\nSnapshot Date ('Today'): {snapshot_date.date()}\")\n",
    "\n",
    "# 4.2. The RFM magic: .groupby() with .agg()\n",
    "# I'll group by customer and calculate all 3 features at once.\n",
    "rfm_df = df_cleaned.groupby('CustomerID').agg(\n",
    "    \n",
    "    # Recency: I get the max date (last purchase) for each customer\n",
    "    # and subtract it from the 'snapshot_date' I created.\n",
    "    Recency=('InvoiceDate', lambda x: (snapshot_date - x.max()).days),\n",
    "    \n",
    "    # Frequency: I count how many unique 'InvoiceNo' each customer has.\n",
    "    Frequency=('InvoiceNo', 'nunique'),\n",
    "    \n",
    "    # Monetary: I simply sum all the 'TotalValue' for that customer.\n",
    "    Monetary=('TotalValue', 'sum')\n",
    ")\n",
    "\n",
    "# Adjusting CustomerID to be a column and of type 'int'\n",
    "rfm_df = rfm_df.reset_index().astype({'CustomerID': int})"
   ]
  },
  {
   "cell_type": "markdown",
   "id": "a0c47cdf",
   "metadata": {},
   "source": [
    "## 4. Final Result\n",
    "\n",
    "Now we have a clean, aggregated DataFrame, where each row represents a single customer \n",
    "and their behavioral metrics."
   ]
  },
  {
   "cell_type": "code",
   "execution_count": 45,
   "id": "9a673b9c",
   "metadata": {},
   "outputs": [
    {
     "name": "stdout",
     "output_type": "stream",
     "text": [
      "\n",
      "--- Final RFM Table (Top 5 Customers) ---\n",
      "   CustomerID  Recency  Frequency  Monetary\n",
      "0       12346      327          1  77183.60\n",
      "1       12347       41          7   4310.00\n",
      "2       12348       77          4   1797.24\n",
      "3       12349       20          1   1757.55\n",
      "4       12350      312          1    334.40\n"
     ]
    }
   ],
   "source": [
    "print(\"\\n--- Final RFM Table (Top 5 Customers) ---\")\n",
    "print(rfm_df.head())"
   ]
  }
 ],
 "metadata": {
  "kernelspec": {
   "display_name": "dados",
   "language": "python",
   "name": "python3"
  },
  "language_info": {
   "codemirror_mode": {
    "name": "ipython",
    "version": 3
   },
   "file_extension": ".py",
   "mimetype": "text/x-python",
   "name": "python",
   "nbconvert_exporter": "python",
   "pygments_lexer": "ipython3",
   "version": "3.13.7"
  }
 },
 "nbformat": 4,
 "nbformat_minor": 5
}
